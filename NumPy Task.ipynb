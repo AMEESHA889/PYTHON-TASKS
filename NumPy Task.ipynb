{
 "cells": [
  {
   "cell_type": "markdown",
   "id": "a7f55b66-16ac-4444-8374-10264dd0bf5c",
   "metadata": {},
   "source": [
    "## Task 1:Basic Analysis"
   ]
  },
  {
   "cell_type": "code",
   "execution_count": 13,
   "id": "d91c480c-2e1b-43ba-9603-2ebea120d373",
   "metadata": {},
   "outputs": [],
   "source": [
    "import numpy as np"
   ]
  },
  {
   "cell_type": "code",
   "execution_count": null,
   "id": "81224df1-0133-47d2-8b7b-8f8d9b82a35c",
   "metadata": {},
   "outputs": [],
   "source": [
    "#Dataset:\n",
    "#You are given a dataset containing sales data of a company for the past 12 months. The data includes:\n",
    "#Months: January to December\n",
    "#Revenue (in USD)\n",
    "#Number of Customers\n",
    "Advertising Spend (in USD)\n",
    "\n",
    "# Given sales data\n",
    "\n",
    "months = np.array([\"Jan\", \"Feb\", \"Mar\", \"Apr\", \"May\", \"Jun\", \"Jul\", \"Aug\", \"Sep\", \"Oct\", \"Nov\", \"Dec\"])\n",
    "revenue = np.array([12000, 15000, 18000, 21000, 25000, 23000, 28000, 30000, 27000, 22000, 19000, 17000])\n",
    "customers = np.array([120, 135, 160, 180, 200, 190, 230, 250, 240, 210, 175, 160])\n",
    "ad_spend = np.array([2000, 2200, 2500, 2800, 3200, 3100, 3500, 4000, 3700, 3300, 2900, 2700])\n",
    "\n",
    "Task 1: Basic Analysis\n",
    "1. Find the total annual revenue.\n",
    "2. Find the average revenue per month.\n",
    "3. Find the month with the highest revenue.\n",
    "4. Find the month with the lowest revenue.\n",
    "\n",
    "Task 2: Customer Analysis\n",
    "1. Find the total number of customers for the year.\n",
    "2. Find the average revenue per customer for each month.\n",
    "3. Identify the month with the highest number of customers.\n",
    "    \n",
    "Task 3: Advertising Performance\n",
    "1. Compute the Revenue-to-Ad Spend Ratio for each month.\n",
    "2. Identify the month with the highest ROI (Return on Investment) in advertising.\n",
    "3. Find the correlation coefficient between advertising spend and revenue.\n",
    "\n",
    "Task 4: Trend Analysis\n",
    "1. Compute the monthly revenue growth rate (percentage change from the previous month).\n",
    "2. Identify the months where revenue declined compared to the previous month.\n"
   ]
  },
  {
   "cell_type": "code",
   "execution_count": 14,
   "id": "d01de984-9b1f-47bd-b60c-5661163488cb",
   "metadata": {},
   "outputs": [
    {
     "name": "stdout",
     "output_type": "stream",
     "text": [
      "257000\n"
     ]
    }
   ],
   "source": [
    "#1\n",
    "revenue = np.array([12000, 15000, 18000, 21000, 25000, 23000, 28000, 30000, 27000, 22000, 19000, 17000])\n",
    "print(sum(revenue))"
   ]
  },
  {
   "cell_type": "code",
   "execution_count": 16,
   "id": "4ef8f940-4d47-4328-9e7c-6b53e7895ae0",
   "metadata": {},
   "outputs": [
    {
     "name": "stdout",
     "output_type": "stream",
     "text": [
      "21416.666666666668\n"
     ]
    }
   ],
   "source": [
    "#2\n",
    "print((sum(revenue))/12)"
   ]
  },
  {
   "cell_type": "code",
   "execution_count": 28,
   "id": "dd25baba-da90-42f4-89ac-9376e430734d",
   "metadata": {},
   "outputs": [
    {
     "name": "stdout",
     "output_type": "stream",
     "text": [
      "Aug\n"
     ]
    }
   ],
   "source": [
    "#3\n",
    "months = np.array([\"Jan\", \"Feb\", \"Mar\", \"Apr\", \"May\", \"Jun\", \"Jul\", \"Aug\", \"Sep\", \"Oct\", \"Nov\", \"Dec\"])\n",
    "print(months[np.argmax(revenue)])"
   ]
  },
  {
   "cell_type": "code",
   "execution_count": 30,
   "id": "8e4c5a31-f8ba-4904-baba-f1393ffea6fa",
   "metadata": {},
   "outputs": [
    {
     "name": "stdout",
     "output_type": "stream",
     "text": [
      "Jan\n"
     ]
    }
   ],
   "source": [
    "#4\n",
    "print(months[np.argmin(revenue)])"
   ]
  },
  {
   "cell_type": "markdown",
   "id": "db3f1308-c1f4-4bbd-a4db-cade44013d9f",
   "metadata": {},
   "source": [
    "## Task 2: Customer Analysis"
   ]
  },
  {
   "cell_type": "code",
   "execution_count": 33,
   "id": "671e267a-afe0-420b-ac6b-7595eebdd835",
   "metadata": {},
   "outputs": [
    {
     "name": "stdout",
     "output_type": "stream",
     "text": [
      "2250\n"
     ]
    }
   ],
   "source": [
    "#1\n",
    "customers = np.array([120, 135, 160, 180, 200, 190, 230, 250, 240, 210, 175, 160])\n",
    "print(sum(customers))"
   ]
  },
  {
   "cell_type": "code",
   "execution_count": 41,
   "id": "9f8d5c9e-bf68-47b8-b54a-70ebaf225f7f",
   "metadata": {},
   "outputs": [
    {
     "name": "stdout",
     "output_type": "stream",
     "text": [
      "[100.         111.11111111 112.5        116.66666667 125.\n",
      " 121.05263158 121.73913043 120.         112.5        104.76190476\n",
      " 108.57142857 106.25      ]\n"
     ]
    }
   ],
   "source": [
    "#2\n",
    "revenue=revenue.astype(float)\n",
    "revenue/=customers\n",
    "print(revenue)"
   ]
  },
  {
   "cell_type": "code",
   "execution_count": 43,
   "id": "86b0c632-a1a1-4e09-b4b2-a6a0f2ee126c",
   "metadata": {},
   "outputs": [
    {
     "name": "stdout",
     "output_type": "stream",
     "text": [
      "Aug\n"
     ]
    }
   ],
   "source": [
    "#3\n",
    "print(months[np.argmax(customers)])"
   ]
  },
  {
   "cell_type": "markdown",
   "id": "abc87b18-a954-4a92-8cd7-879ca0c88140",
   "metadata": {},
   "source": [
    "## Task 3: Advertising Performance"
   ]
  },
  {
   "cell_type": "code",
   "execution_count": 46,
   "id": "83ee0dc3-b3ee-48ae-bcac-e2a10c3b6463",
   "metadata": {},
   "outputs": [
    {
     "name": "stdout",
     "output_type": "stream",
     "text": [
      "[0.05       0.05050505 0.045      0.04166667 0.0390625  0.03904924\n",
      " 0.03478261 0.03       0.03040541 0.03174603 0.03743842 0.03935185]\n"
     ]
    }
   ],
   "source": [
    "#1\n",
    "ad_spend = np.array([2000, 2200, 2500, 2800, 3200, 3100, 3500, 4000, 3700, 3300, 2900, 2700])\n",
    "ratio= revenue/ad_spend\n",
    "print(ratio)"
   ]
  },
  {
   "cell_type": "code",
   "execution_count": 48,
   "id": "29f79ed7-4982-4638-8f05-968a028f6e81",
   "metadata": {},
   "outputs": [
    {
     "name": "stdout",
     "output_type": "stream",
     "text": [
      "Feb\n"
     ]
    }
   ],
   "source": [
    "#2\n",
    "roi=months[np.argmax(revenue/ad_spend)]\n",
    "print(roi)"
   ]
  },
  {
   "cell_type": "code",
   "execution_count": 50,
   "id": "a865b545-d96a-47be-968b-dbc8bbb16dd2",
   "metadata": {},
   "outputs": [
    {
     "name": "stdout",
     "output_type": "stream",
     "text": [
      "0.5600907959368194\n"
     ]
    }
   ],
   "source": [
    "#3\n",
    "print(np.corrcoef(ad_spend,revenue)[0,1])"
   ]
  },
  {
   "cell_type": "markdown",
   "id": "f1a521e9-0d8e-423a-ae60-a7fb1b7c8b8c",
   "metadata": {},
   "source": [
    "## Task 4: Trend Analysis"
   ]
  },
  {
   "cell_type": "code",
   "execution_count": 57,
   "id": "c3176e3f-9ac1-4352-9034-2280c62c375a",
   "metadata": {},
   "outputs": [
    {
     "name": "stdout",
     "output_type": "stream",
     "text": [
      "[10.45751634  1.30718954  3.92156863  7.84313725 -3.71517028  0.64611657\n",
      " -1.63682864 -7.05882353 -7.28291317  3.58543417 -2.18487395]\n"
     ]
    }
   ],
   "source": [
    "#1\n",
    "growthRate=np.diff(revenue)/revenue[-1]*100\n",
    "print(growthRate)"
   ]
  },
  {
   "cell_type": "code",
   "execution_count": 63,
   "id": "f46554ef-b35f-452f-b184-2c1a92468d7c",
   "metadata": {},
   "outputs": [
    {
     "name": "stdout",
     "output_type": "stream",
     "text": [
      "['Jun' 'Aug' 'Sep' 'Oct' 'Dec']\n"
     ]
    }
   ],
   "source": [
    "#2\n",
    "declined=np.where(growthRate<0)[0]+1 \n",
    "declined_months=months[declined]\n",
    "print(declined_months)\n"
   ]
  },
  {
   "cell_type": "code",
   "execution_count": null,
   "id": "a6b251bf-e40b-45c4-9805-32296ba5fc49",
   "metadata": {},
   "outputs": [],
   "source": []
  }
 ],
 "metadata": {
  "kernelspec": {
   "display_name": "Python [conda env:base] *",
   "language": "python",
   "name": "conda-base-py"
  },
  "language_info": {
   "codemirror_mode": {
    "name": "ipython",
    "version": 3
   },
   "file_extension": ".py",
   "mimetype": "text/x-python",
   "name": "python",
   "nbconvert_exporter": "python",
   "pygments_lexer": "ipython3",
   "version": "3.12.7"
  }
 },
 "nbformat": 4,
 "nbformat_minor": 5
}
